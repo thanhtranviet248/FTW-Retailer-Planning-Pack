{
 "cells": [
  {
   "cell_type": "code",
   "execution_count": 1,
   "id": "375b0adc",
   "metadata": {},
   "outputs": [],
   "source": [
    "# Import libraries\n",
    "import os\n",
    "import pandas as pd\n",
    "import numpy as np"
   ]
  },
  {
   "cell_type": "code",
   "execution_count": 2,
   "id": "c92a38a5",
   "metadata": {},
   "outputs": [],
   "source": [
    "def clean_assortment_data(assortment_folder: str):\n",
    "\n",
    "    # Create an empty list to store cleaned dfs\n",
    "    cleaned_assortment_df = []\n",
    "\n",
    "    # Iterate through each csv file in the assortment folder\n",
    "    for assortment_file in os.listdir(assortment_folder):\n",
    "        if assortment_file.endswith('.csv'):\n",
    "\n",
    "            # Read the data\n",
    "            assortment_file_path = os.path.join(assortment_folder, assortment_file)\n",
    "            raw_assortment_df = pd.read_csv(assortment_file_path)\n",
    "\n",
    "            # Melt the data\n",
    "            melted_assortment_df = pd.melt(\n",
    "                frame=raw_assortment_df,\n",
    "                id_vars=['season', 'style_color', 'style_color_rank', 'order_decision'],\n",
    "                var_name='store_code',\n",
    "                value_name='assortment'\n",
    "            )\n",
    "\n",
    "            # Append the melted df to the list\n",
    "            cleaned_assortment_df.append(melted_assortment_df)\n",
    "\n",
    "    # Concatenate all cleaned dfs\n",
    "    concat_assortment_df = pd.concat(cleaned_assortment_df, ignore_index=True)\n",
    "\n",
    "    # Standardize the data types\n",
    "    concat_assortment_df['season'] = concat_assortment_df['season'].astype(str)\n",
    "    concat_assortment_df['style_color'] = concat_assortment_df['style_color'].astype(str)\n",
    "    concat_assortment_df['style_color_rank'] = concat_assortment_df['style_color_rank'].astype(str)\n",
    "    concat_assortment_df['order_decision'] = concat_assortment_df['order_decision'].astype('int32')\n",
    "    concat_assortment_df['store_code'] = concat_assortment_df['store_code'].astype('int32')\n",
    "    concat_assortment_df['assortment'] = concat_assortment_df['assortment'].astype('int32')\n",
    "\n",
    "    return concat_assortment_df"
   ]
  },
  {
   "cell_type": "code",
   "execution_count": 3,
   "id": "60f061b1",
   "metadata": {},
   "outputs": [],
   "source": [
    "assortment_folder = 'D:\\\\retail_planning_project\\\\0. input_data\\\\assortment\\\\raw_data'\n",
    "concat_assortment_df = clean_assortment_data(assortment_folder)\n",
    "concat_assortment_df.to_csv('D:\\\\retail_planning_project\\\\0. input_data\\\\assortment\\\\processed_data\\\\assortment.csv', index=False)"
   ]
  }
 ],
 "metadata": {
  "kernelspec": {
   "display_name": "Python 3",
   "language": "python",
   "name": "python3"
  },
  "language_info": {
   "codemirror_mode": {
    "name": "ipython",
    "version": 3
   },
   "file_extension": ".py",
   "mimetype": "text/x-python",
   "name": "python",
   "nbconvert_exporter": "python",
   "pygments_lexer": "ipython3",
   "version": "3.11.9"
  }
 },
 "nbformat": 4,
 "nbformat_minor": 5
}
