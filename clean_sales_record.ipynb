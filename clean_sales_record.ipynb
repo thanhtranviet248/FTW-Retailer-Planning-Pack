{
 "cells": [
  {
   "cell_type": "code",
   "execution_count": 1,
   "id": "22e336fd",
   "metadata": {},
   "outputs": [],
   "source": [
    "# Define a function to clean sales records for SQL database\n",
    "# Data schema:\n",
    "    # customer_id (str), \n",
    "    # product_id (str), \n",
    "    # sales_qty (int16),\n",
    "    # sales_gross_amt (int32),\n",
    "    # sales_cogs_amt (int32),\n",
    "    # sales_net_amt (int32),\n",
    "    # year (int16), \n",
    "    # month (int8), \n",
    "    # week (int8)"
   ]
  },
  {
   "cell_type": "code",
   "execution_count": 2,
   "id": "738c91c4",
   "metadata": {},
   "outputs": [],
   "source": [
    "import pandas as pd\n",
    "import numpy as np\n",
    "import polars as pl\n",
    "\n",
    "def sales_data_for_db(sales_path):\n",
    "\n",
    "    # Determine columns to be used\n",
    "    sales_usecols = [\n",
    "        'MÃ KHÁCH',\n",
    "        'MÃ HÀNG',\n",
    "        'SLTT',\n",
    "        'TGTT-GTT',\n",
    "        'TGTT-GV',\n",
    "        'TGTT-GSCK',\n",
    "        'NĂM',\n",
    "        'THÁNG',\n",
    "        'TUẦN'\n",
    "        ]\n",
    "\n",
    "    # Read the sales data and rename columns\n",
    "    raw_sales_df = pd.read_csv(sales_path, usecols=sales_usecols)\n",
    "    cleaned_sales_df = raw_sales_df.rename(\n",
    "        columns={\n",
    "            'MÃ KHÁCH': 'customer_id',\n",
    "            'MÃ HÀNG': 'product_id',\n",
    "            'SLTT': 'sales_qty',\n",
    "            'TGTT-GTT': 'sales_gross_amt',\n",
    "            'TGTT-GV': 'sales_cogs_amt',\n",
    "            'TGTT-GSCK': 'sales_net_amt',\n",
    "            'NĂM': 'year',\n",
    "            'THÁNG': 'month',\n",
    "            'TUẦN': 'week'\n",
    "        })\n",
    "\n",
    "    # Extract the last two digits of month and week\n",
    "    cleaned_sales_df['month'] = cleaned_sales_df['month'].astype(str).str[-2:]\n",
    "    cleaned_sales_df['week'] = cleaned_sales_df['week'].astype(str).str[-2:]\n",
    "\n",
    "    # Change data types\n",
    "    cleaned_sales_df = cleaned_sales_df.astype({\n",
    "        'customer_id': 'str',\n",
    "        'product_id': 'str',\n",
    "        'sales_qty': 'int16',\n",
    "        'sales_gross_amt': 'int32',\n",
    "        'sales_cogs_amt': 'int32',\n",
    "        'sales_net_amt': 'int32',\n",
    "        'year': 'int16',\n",
    "        'month': 'int8',\n",
    "        'week': 'int8'\n",
    "    })\n",
    "\n",
    "    # Group by customer_id, product_id, year, month, and week\n",
    "    cleaned_sales_df = cleaned_sales_df.groupby(\n",
    "        ['customer_id', 'product_id', 'year', 'month', 'week'],\n",
    "        as_index=False\n",
    "    ).agg({\n",
    "        'sales_qty': 'sum',\n",
    "        'sales_gross_amt': 'sum',\n",
    "        'sales_cogs_amt': 'sum',\n",
    "        'sales_net_amt': 'sum'\n",
    "    })\n",
    "\n",
    "    # Sort by customer_id, product_id, year, month, and week\n",
    "    cleaned_sales_df = cleaned_sales_df.sort_values(\n",
    "        by=['year', 'month', 'week', 'customer_id', 'product_id'],\n",
    "        ascending=[False, False, False, True, True]\n",
    "    ).reset_index(drop=True)\n",
    "\n",
    "    return cleaned_sales_df"
   ]
  },
  {
   "cell_type": "code",
   "execution_count": 3,
   "id": "971bc4f7",
   "metadata": {},
   "outputs": [
    {
     "name": "stderr",
     "output_type": "stream",
     "text": [
      "C:\\Users\\thanh\\AppData\\Local\\Temp\\ipykernel_9312\\2215271992.py:21: DtypeWarning: Columns (1) have mixed types. Specify dtype option on import or set low_memory=False.\n",
      "  raw_sales_df = pd.read_csv(sales_path, usecols=sales_usecols)\n",
      "C:\\Users\\thanh\\AppData\\Local\\Temp\\ipykernel_9312\\2215271992.py:21: DtypeWarning: Columns (2) have mixed types. Specify dtype option on import or set low_memory=False.\n",
      "  raw_sales_df = pd.read_csv(sales_path, usecols=sales_usecols)\n",
      "C:\\Users\\thanh\\AppData\\Local\\Temp\\ipykernel_9312\\2215271992.py:21: DtypeWarning: Columns (2) have mixed types. Specify dtype option on import or set low_memory=False.\n",
      "  raw_sales_df = pd.read_csv(sales_path, usecols=sales_usecols)\n"
     ]
    }
   ],
   "source": [
    "# Run the function\n",
    "sales_path_2022 = \"D:\\\\footwear_retail_chain_project\\\\0. input_data\\\\sales\\\\raw_data\\\\sales_raw_2022_adjusted.csv\"\n",
    "sales_path_2023 = \"D:\\\\footwear_retail_chain_project\\\\0. input_data\\\\sales\\\\raw_data\\\\sales_raw_2023.csv\"\n",
    "sales_path_2024 = \"D:\\\\footwear_retail_chain_project\\\\0. input_data\\\\sales\\\\raw_data\\\\sales_raw_2024.csv\"\n",
    "\n",
    "sales_2022 = sales_data_for_db(sales_path_2022)\n",
    "sales_2023 = sales_data_for_db(sales_path_2023)\n",
    "sales_2024 = sales_data_for_db(sales_path_2024)\n",
    "\n",
    "# Export to CSV\n",
    "sales_2022.to_csv(\"D:\\\\footwear_retail_chain_project\\\\0. input_data\\\\sales\\\\cleaned_data\\\\sales_cleaned_2022.csv\", index=False)\n",
    "sales_2023.to_csv(\"D:\\\\footwear_retail_chain_project\\\\0. input_data\\\\sales\\\\cleaned_data\\\\sales_cleaned_2023.csv\", index=False)\n",
    "sales_2024.to_csv(\"D:\\\\footwear_retail_chain_project\\\\0. input_data\\\\sales\\\\cleaned_data\\\\sales_cleaned_2024.csv\", index=False)"
   ]
  }
 ],
 "metadata": {
  "kernelspec": {
   "display_name": "Python 3",
   "language": "python",
   "name": "python3"
  },
  "language_info": {
   "codemirror_mode": {
    "name": "ipython",
    "version": 3
   },
   "file_extension": ".py",
   "mimetype": "text/x-python",
   "name": "python",
   "nbconvert_exporter": "python",
   "pygments_lexer": "ipython3",
   "version": "3.11.9"
  }
 },
 "nbformat": 4,
 "nbformat_minor": 5
}
