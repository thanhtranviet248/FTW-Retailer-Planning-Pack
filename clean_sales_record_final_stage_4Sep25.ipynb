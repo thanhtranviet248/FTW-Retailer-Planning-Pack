{
 "cells": [
  {
   "cell_type": "code",
   "execution_count": null,
   "id": "738c91c4",
   "metadata": {},
   "outputs": [],
   "source": [
    "# ==========================================\n",
    "# Import Required Libraries\n",
    "# ==========================================\n",
    "import pandas as pd\n",
    "import os\n",
    "\n",
    "# ==========================================\n",
    "# Function: sales_data_for_db\n",
    "# Purpose :\n",
    "#   - Prepare sales records for PostgreSQL database\n",
    "#   - Standardize column names and dtypes\n",
    "#   - Aggregate data at (customer, product, year, month, week) level\n",
    "# ==========================================\n",
    "def sales_data_for_db(sales_path: str) -> pd.DataFrame:\n",
    "    \"\"\"\n",
    "    Prepare sales records for PostgreSQL database.\n",
    "\n",
    "    Parameters\n",
    "    ----------\n",
    "    sales_path : str\n",
    "        File path to the sales CSV file.\n",
    "\n",
    "    Returns\n",
    "    -------\n",
    "    pd.DataFrame\n",
    "        Cleaned and aggregated sales dataset with standardized column names\n",
    "        and optimized data types.\n",
    "    \"\"\"\n",
    "\n",
    "    # Step 1: Define columns to read\n",
    "    sales_usecols = [\n",
    "        \"MÃ KHÁCH\",\n",
    "        \"MÃ HÀNG\",\n",
    "        \"SLTT\",\n",
    "        \"TGTT-GTT\",\n",
    "        \"TGTT-GV\",\n",
    "        \"TGTT-GSCK\",\n",
    "        \"NĂM\",\n",
    "        \"THÁNG\",\n",
    "        \"TUẦN\",\n",
    "    ]\n",
    "\n",
    "    # Step 2: Load dataset with selected columns\n",
    "    raw_sales_df = pd.read_csv(sales_path, usecols=sales_usecols)\n",
    "\n",
    "    # Step 3: Rename columns to English-friendly names\n",
    "    cleaned_sales_df = raw_sales_df.rename(\n",
    "        columns={\n",
    "            \"MÃ KHÁCH\": \"customer_id\",\n",
    "            \"MÃ HÀNG\": \"product_id\",\n",
    "            \"SLTT\": \"sales_qty\",\n",
    "            \"TGTT-GTT\": \"sales_gross_amt\",\n",
    "            \"TGTT-GV\": \"sales_cogs_amt\",\n",
    "            \"TGTT-GSCK\": \"sales_net_amt\",\n",
    "            \"NĂM\": \"year\",\n",
    "            \"THÁNG\": \"month\",\n",
    "            \"TUẦN\": \"week\",\n",
    "        }\n",
    "    )\n",
    "\n",
    "    # Step 4: Keep only the last two digits of month/week\n",
    "    cleaned_sales_df[\"month\"] = cleaned_sales_df[\"month\"].astype(str).str[-2:]\n",
    "    cleaned_sales_df[\"week\"] = cleaned_sales_df[\"week\"].astype(str).str[-2:]\n",
    "\n",
    "    # Step 5: Standardize data types\n",
    "    cleaned_sales_df = cleaned_sales_df.astype(\n",
    "        {\n",
    "            \"customer_id\": \"string\",\n",
    "            \"product_id\": \"string\",\n",
    "            \"sales_qty\": \"int16\",\n",
    "            \"sales_gross_amt\": \"int32\",\n",
    "            \"sales_cogs_amt\": \"int32\",\n",
    "            \"sales_net_amt\": \"int32\",\n",
    "            \"year\": \"int16\",\n",
    "            \"month\": \"int8\",\n",
    "            \"week\": \"int8\",\n",
    "        }\n",
    "    )\n",
    "\n",
    "    # Step 6: Aggregate sales data at (customer, product, year, month, week) level\n",
    "    cleaned_sales_df = (\n",
    "        cleaned_sales_df.groupby(\n",
    "            [\"customer_id\", \"product_id\", \"year\", \"month\", \"week\"], as_index=False\n",
    "        )\n",
    "        .agg(\n",
    "            {\n",
    "                \"sales_qty\": \"sum\",\n",
    "                \"sales_gross_amt\": \"sum\",\n",
    "                \"sales_cogs_amt\": \"sum\",\n",
    "                \"sales_net_amt\": \"sum\",\n",
    "            }\n",
    "        )\n",
    "    )\n",
    "\n",
    "    # Step 7: Sort records for better readability\n",
    "    cleaned_sales_df = cleaned_sales_df.sort_values(\n",
    "        by=[\"year\", \"month\", \"week\", \"customer_id\", \"product_id\"],\n",
    "        ascending=[False, False, False, True, True],\n",
    "    ).reset_index(drop=True)\n",
    "\n",
    "    return cleaned_sales_df"
   ]
  },
  {
   "cell_type": "code",
   "execution_count": 2,
   "id": "971bc4f7",
   "metadata": {},
   "outputs": [
    {
     "name": "stderr",
     "output_type": "stream",
     "text": [
      "C:\\Users\\thanh\\AppData\\Local\\Temp\\ipykernel_28812\\2699018744.py:45: DtypeWarning: Columns (1) have mixed types. Specify dtype option on import or set low_memory=False.\n",
      "  raw_sales_df = pd.read_csv(sales_path, usecols=sales_usecols)\n"
     ]
    },
    {
     "name": "stdout",
     "output_type": "stream",
     "text": [
      "✅ Cleaned sales data for 2022 saved to D:\\footwear_retail_chain_project\\0. input_data\\sales\\cleaned_data\\sales_cleaned_2022.csv\n"
     ]
    },
    {
     "name": "stderr",
     "output_type": "stream",
     "text": [
      "C:\\Users\\thanh\\AppData\\Local\\Temp\\ipykernel_28812\\2699018744.py:45: DtypeWarning: Columns (2) have mixed types. Specify dtype option on import or set low_memory=False.\n",
      "  raw_sales_df = pd.read_csv(sales_path, usecols=sales_usecols)\n"
     ]
    },
    {
     "name": "stdout",
     "output_type": "stream",
     "text": [
      "✅ Cleaned sales data for 2023 saved to D:\\footwear_retail_chain_project\\0. input_data\\sales\\cleaned_data\\sales_cleaned_2023.csv\n"
     ]
    },
    {
     "name": "stderr",
     "output_type": "stream",
     "text": [
      "C:\\Users\\thanh\\AppData\\Local\\Temp\\ipykernel_28812\\2699018744.py:45: DtypeWarning: Columns (2) have mixed types. Specify dtype option on import or set low_memory=False.\n",
      "  raw_sales_df = pd.read_csv(sales_path, usecols=sales_usecols)\n"
     ]
    },
    {
     "name": "stdout",
     "output_type": "stream",
     "text": [
      "✅ Cleaned sales data for 2024 saved to D:\\footwear_retail_chain_project\\0. input_data\\sales\\cleaned_data\\sales_cleaned_2024.csv\n",
      "✅ Cleaned sales data for 2025 saved to D:\\footwear_retail_chain_project\\0. input_data\\sales\\cleaned_data\\sales_cleaned_2025.csv\n"
     ]
    }
   ],
   "source": [
    "# ==========================================\n",
    "# Run Sales Data Cleaning and Export Results\n",
    "# ==========================================\n",
    "\n",
    "# Define input file paths\n",
    "sales_paths = {\n",
    "    \"2022\": r\"D:\\footwear_retail_chain_project\\0. input_data\\sales\\raw_data\\sales_raw_2022_adjusted.csv\",\n",
    "    \"2023\": r\"D:\\footwear_retail_chain_project\\0. input_data\\sales\\raw_data\\sales_raw_2023.csv\",\n",
    "    \"2024\": r\"D:\\footwear_retail_chain_project\\0. input_data\\sales\\raw_data\\sales_raw_2024.csv\",\n",
    "    \"2025\": r\"D:\\footwear_retail_chain_project\\0. input_data\\sales\\raw_data\\sales_raw_2025.csv\",\n",
    "}\n",
    "\n",
    "# Define output folder\n",
    "output_dir = r\"D:\\footwear_retail_chain_project\\0. input_data\\sales\\cleaned_data\"\n",
    "\n",
    "# Process each file and export cleaned results\n",
    "for year, path in sales_paths.items():\n",
    "    sales_df = sales_data_for_db(path)\n",
    "    output_file = os.path.join(output_dir, f\"sales_cleaned_{year}.csv\")\n",
    "    sales_df.to_csv(output_file, index=False)\n",
    "    print(f\"✅ Cleaned sales data for {year} saved to {output_file}\")"
   ]
  }
 ],
 "metadata": {
  "kernelspec": {
   "display_name": "Python 3",
   "language": "python",
   "name": "python3"
  },
  "language_info": {
   "codemirror_mode": {
    "name": "ipython",
    "version": 3
   },
   "file_extension": ".py",
   "mimetype": "text/x-python",
   "name": "python",
   "nbconvert_exporter": "python",
   "pygments_lexer": "ipython3",
   "version": "3.11.9"
  }
 },
 "nbformat": 4,
 "nbformat_minor": 5
}
