{
 "cells": [
  {
   "cell_type": "code",
   "execution_count": 1,
   "id": "52d134c8",
   "metadata": {},
   "outputs": [],
   "source": [
    "import pandas as pd\n",
    "import numpy as np\n",
    "import glob\n",
    "import os\n",
    "\n",
    "# Function to concat 2025 sales data\n",
    "def concat_2025_sales_data(path):\n",
    "    \n",
    "    df = pd.concat([\n",
    "        pd.read_excel(\n",
    "            file, \n",
    "            sheet_name='TT', \n",
    "            usecols=[1, 7, 9, 10, 11, 12, 14, 15, 16]) for file in glob.glob(os.path.join(path, 'sales_raw_2025_*.xlsb'))], \n",
    "            ignore_index=True)\n",
    "    \n",
    "    df = df.astype({\n",
    "        'MÃ KHÁCH': 'str',\n",
    "        'MÃ HÀNG': 'str',\n",
    "        'SLTT': 'int16',\n",
    "        'TGTT-GTT': 'int32',\n",
    "        'TGTT-GV': 'int32',\n",
    "        'TGTT-GSCK': 'int32',\n",
    "        'NĂM': 'int16',\n",
    "        'THÁNG': 'int8',\n",
    "        'TUẦN': 'int8',\n",
    "    })\n",
    "    return df\n",
    "\n",
    "path = 'D:\\\\footwear_retail_chain_project\\\\0. input_data\\\\sales\\\\raw_data'\n",
    "sales_2025 = concat_2025_sales_data(path)\n",
    "sales_2025.to_csv('D:\\\\footwear_retail_chain_project\\\\0. input_data\\\\sales\\\\raw_data\\\\sales_raw_2025.csv', index=False)"
   ]
  }
 ],
 "metadata": {
  "kernelspec": {
   "display_name": "Python 3",
   "language": "python",
   "name": "python3"
  },
  "language_info": {
   "codemirror_mode": {
    "name": "ipython",
    "version": 3
   },
   "file_extension": ".py",
   "mimetype": "text/x-python",
   "name": "python",
   "nbconvert_exporter": "python",
   "pygments_lexer": "ipython3",
   "version": "3.11.9"
  }
 },
 "nbformat": 4,
 "nbformat_minor": 5
}
