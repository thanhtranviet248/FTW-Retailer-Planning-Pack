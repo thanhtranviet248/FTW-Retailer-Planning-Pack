{
 "cells": [
  {
   "cell_type": "code",
   "execution_count": 1,
   "id": "52d134c8",
   "metadata": {},
   "outputs": [
    {
     "name": "stdout",
     "output_type": "stream",
     "text": [
      "✅ 2025 sales data concatenated and saved to: D:\\footwear_retail_chain_project\\0. input_data\\sales\\raw_data\\sales_raw_2025.csv\n"
     ]
    }
   ],
   "source": [
    "# ==========================================\n",
    "# Import Required Libraries\n",
    "# ==========================================\n",
    "import os\n",
    "import glob\n",
    "import pandas as pd\n",
    "\n",
    "\n",
    "# ==========================================\n",
    "# Function: concat_2025_sales_data\n",
    "# Purpose :\n",
    "#   - Concatenate all 2025 sales files (.xlsb)\n",
    "#   - Keep only relevant columns\n",
    "#   - Standardize column data types\n",
    "# ==========================================\n",
    "def concat_2025_sales_data(path: str) -> pd.DataFrame:\n",
    "    \"\"\"\n",
    "    Concatenate and clean 2025 sales data from multiple files.\n",
    "\n",
    "    Parameters\n",
    "    ----------\n",
    "    path : str\n",
    "        Directory containing sales_raw_2025_*.xlsb files.\n",
    "\n",
    "    Returns\n",
    "    -------\n",
    "    pd.DataFrame\n",
    "        Cleaned 2025 sales dataset.\n",
    "    \"\"\"\n",
    "    # Step 1: Read and combine all .xlsb sales files\n",
    "    df = pd.concat(\n",
    "        [\n",
    "            pd.read_excel(\n",
    "                file,\n",
    "                sheet_name=\"TT\",\n",
    "                usecols=[1, 7, 9, 10, 11, 12, 14, 15, 16],\n",
    "            )\n",
    "            for file in glob.glob(os.path.join(path, \"sales_raw_2025_*.xlsb\"))\n",
    "        ],\n",
    "        ignore_index=True,\n",
    "    )\n",
    "\n",
    "    # Step 2: Standardize column data types\n",
    "    df = df.astype(\n",
    "        {\n",
    "            \"MÃ KHÁCH\": \"string\",\n",
    "            \"MÃ HÀNG\": \"string\",\n",
    "            \"SLTT\": \"int16\",\n",
    "            \"TGTT-GTT\": \"int32\",\n",
    "            \"TGTT-GV\": \"int32\",\n",
    "            \"TGTT-GSCK\": \"int32\",\n",
    "            \"NĂM\": \"int16\",\n",
    "            \"THÁNG\": \"int8\",\n",
    "            \"TUẦN\": \"int8\",\n",
    "        }\n",
    "    )\n",
    "\n",
    "    return df\n",
    "\n",
    "\n",
    "# ==========================================\n",
    "# Execution\n",
    "# ==========================================\n",
    "if __name__ == \"__main__\":\n",
    "    input_path = r\"D:\\footwear_retail_chain_project\\0. input_data\\sales\\raw_data\"\n",
    "    output_file = os.path.join(input_path, \"sales_raw_2025.csv\")\n",
    "\n",
    "    sales_2025 = concat_2025_sales_data(input_path)\n",
    "\n",
    "    # Export to CSV\n",
    "    sales_2025.to_csv(output_file, index=False)\n",
    "\n",
    "    print(f\"✅ 2025 sales data concatenated and saved to: {output_file}\")"
   ]
  }
 ],
 "metadata": {
  "kernelspec": {
   "display_name": "Python 3",
   "language": "python",
   "name": "python3"
  },
  "language_info": {
   "codemirror_mode": {
    "name": "ipython",
    "version": 3
   },
   "file_extension": ".py",
   "mimetype": "text/x-python",
   "name": "python",
   "nbconvert_exporter": "python",
   "pygments_lexer": "ipython3",
   "version": "3.11.9"
  }
 },
 "nbformat": 4,
 "nbformat_minor": 5
}
