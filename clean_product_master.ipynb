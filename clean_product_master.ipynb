{
 "cells": [
  {
   "cell_type": "code",
   "execution_count": null,
   "id": "14871b85-cfce-4cf5-b4bc-f576713de73c",
   "metadata": {},
   "outputs": [],
   "source": [
    "# ==========================================\n",
    "# Import Required Libraries\n",
    "# ==========================================\n",
    "import os\n",
    "import glob\n",
    "import re\n",
    "import pandas as pd\n",
    "\n",
    "# Concating raw data\n",
    "path = r\"D:\\Python\\Python project\\Product_Tree\"\n",
    "all_dfs = []\n",
    "for file in glob.glob(os.path.join(path, \"Product_Tree_*.xlsb\")):\n",
    "    # Extract year from filename using regex\n",
    "    filename = os.path.basename(file)\n",
    "    match = re.search(r\"(\\d{4})\", filename)\n",
    "    year = match.group(1) if match else None\n",
    "    # Read the \"DATA\" sheet\n",
    "    df_temp = pd.read_excel(file, sheet_name=\"DATA\", engine=\"pyxlsb\")\n",
    "    # Add year column\n",
    "    df_temp[\"applied_year\"] = year\n",
    "    all_dfs.append(df_temp)\n",
    "\n",
    "# Concatenate all DataFrames\n",
    "df = pd.concat(all_dfs, ignore_index=True)"
   ]
  },
  {
   "cell_type": "code",
   "execution_count": 3,
   "id": "0d78f35d-00d5-4713-a593-49d283968157",
   "metadata": {
    "scrolled": true
   },
   "outputs": [],
   "source": [
    "path = \"D:\\Python\\Python project\\Product_Tree\"\n",
    "# Read and concatenate all retail price files\n",
    "df = pd.concat(\n",
    "    [pd.read_excel(file, engine=\"pyxlsb\")\n",
    "     for file in glob.glob(os.path.join(path, \"*.xlsb\"))],\n",
    "    ignore_index=True\n",
    ")"
   ]
  },
  {
   "cell_type": "code",
   "execution_count": 3,
   "id": "1dfd01e6-ea79-4f33-b4ca-775cbe804e79",
   "metadata": {},
   "outputs": [],
   "source": [
    "# Concating raw data\n",
    "path = r\"D:\\Python\\Python project\\Product_Tree\"\n",
    "all_dfs = []\n",
    "for file in glob.glob(os.path.join(path, \"Product_Tree_*.xlsb\")):\n",
    "    # Extract year from filename using regex\n",
    "    filename = os.path.basename(file)\n",
    "    match = re.search(r\"(\\d{4})\", filename)\n",
    "    year = match.group(1) if match else None\n",
    "    # Read the \"DATA\" sheet\n",
    "    df_temp = pd.read_excel(file, sheet_name=\"DATA\", engine=\"pyxlsb\")\n",
    "    # Add year column\n",
    "    df_temp[\"Year\"] = year\n",
    "    all_dfs.append(df_temp)\n",
    "\n",
    "# Concatenate all DataFrames\n",
    "df = pd.concat(all_dfs, ignore_index=True)"
   ]
  },
  {
   "cell_type": "code",
   "execution_count": 4,
   "id": "128304c9-3378-4a7a-a5f4-3045e364fb5a",
   "metadata": {},
   "outputs": [],
   "source": [
    "# Drop unnamed columns & unneccessary columns\n",
    "df = df.loc[:, ~df.columns.str.contains('^Unnamed')]\n",
    "df = df.drop(columns=['KIỂU GIÀY CŨ', 'LOẠI ĐẾ ', 'THỜI GIAN BÁN CHTT',\n",
    "       'Nhóm tương đồng cũ', 'Mã tính KHM', 'Mã hóa chất liệu  khuôn đế',\n",
    "       'Mã hóa chất liệu mũ quai', 'Độc quyền B2B'])"
   ]
  },
  {
   "cell_type": "code",
   "execution_count": 5,
   "id": "74cbce96-5437-49d6-9294-bab8d1ee855e",
   "metadata": {},
   "outputs": [
    {
     "data": {
      "text/plain": [
       "Index(['SKU', 'Style color', 'Style', 'Color', 'Color Group', 'Listing Price',\n",
       "       'Price Group', 'Brand', 'Gender', 'Product Group',\n",
       "       'Detailed Product Group', 'Shoe Product', 'Specialized Function',\n",
       "       'Dedicated functions', 'Size Group', 'Size', 'Size Range', 'Age Group',\n",
       "       'Activity Group', 'Collection', 'Copyright group', 'Image copyright',\n",
       "       'Product Line', 'Design Inspiration', 'Lifestyle Group',\n",
       "       'Launch Season', 'Similar group', 'Mold code', 'Heel Height',\n",
       "       'Upper_material', 'Design team', 'Vendor', 'OPTION', 'OPTION NAME',\n",
       "       'Cost price', 'Year'],\n",
       "      dtype='object')"
      ]
     },
     "execution_count": 5,
     "metadata": {},
     "output_type": "execute_result"
    }
   ],
   "source": [
    "df.columns"
   ]
  },
  {
   "cell_type": "code",
   "execution_count": 6,
   "id": "920a6739-cf89-434e-8e94-e650f935f54f",
   "metadata": {},
   "outputs": [
    {
     "name": "stdout",
     "output_type": "stream",
     "text": [
      "Null value quantity in SKU: 0\n",
      "Null value quantity in Style color: 0\n",
      "Null value quantity in Style: 0\n",
      "Null value quantity in Color: 155\n",
      "Null value quantity in Color Group: 0\n",
      "Null value quantity in Listing Price: 242\n",
      "Null value quantity in Price Group: 370\n",
      "Null value quantity in Brand: 0\n",
      "Null value quantity in Gender: 0\n",
      "Null value quantity in Product Group: 0\n",
      "Null value quantity in Detailed Product Group: 0\n",
      "Null value quantity in Shoe Product: 0\n",
      "Null value quantity in Specialized Function: 0\n",
      "Null value quantity in Dedicated functions: 85\n",
      "Null value quantity in Size Group: 0\n",
      "Null value quantity in Size: 326\n",
      "Null value quantity in Size Range: 7422\n",
      "Null value quantity in Age Group: 6\n",
      "Null value quantity in Activity Group: 0\n",
      "Null value quantity in Collection: 3233\n",
      "Null value quantity in Copyright group: 3\n",
      "Null value quantity in Image copyright: 2168\n",
      "Null value quantity in Product Line: 0\n",
      "Null value quantity in Design Inspiration: 21865\n",
      "Null value quantity in Lifestyle Group: 716\n",
      "Null value quantity in Launch Season: 0\n",
      "Null value quantity in Similar group: 1100\n",
      "Null value quantity in Mold code: 202409\n",
      "Null value quantity in Heel Height: 49962\n",
      "Null value quantity in Upper_material: 112210\n",
      "Null value quantity in Design team: 194882\n",
      "Null value quantity in Vendor: 15316\n",
      "Null value quantity in OPTION: 5718\n",
      "Null value quantity in OPTION NAME: 5718\n",
      "Null value quantity in Cost price: 276\n",
      "Null value quantity in Year: 0\n"
     ]
    }
   ],
   "source": [
    "for columns in df.columns:\n",
    "    print(f\"Null value quantity in {columns}: {df[columns].isnull().sum()}\")"
   ]
  },
  {
   "cell_type": "code",
   "execution_count": 8,
   "id": "ed3852b4-206c-47ae-b081-b5934bba703e",
   "metadata": {},
   "outputs": [],
   "source": [
    "# Adjust Vietnamese value into English\n",
    "# Color group\n",
    "df[\"Color Group\"].str.strip()\n",
    "map_color_group = {\"TỐI\":\"DARK\",\"SÁNG\":\"LIGHT\",\"NHIỀU MÀU\":\"COLORFUK\",\"ĐEN\":\"BLACK\",\"KHÁC\":\"OTHER\",\"TRẮNG\":\"WHITE\",\"MÀU SẮC\":\"COLORFUL\"}\n",
    "df[\"Color Group\"] = df[\"Color Group\"].replace(map_color_group)\n",
    "\n",
    "# Specialized Function\n",
    "df[\"Specialized Function\"].str.strip()\n",
    "map_Specialized_Function = {\"Hàng ngày\":\"Daily Use\",\"Bóng đá\":\"Football\",\"Đi bộ\":\"Walking\",\"Chạy bộ\":\"Jogging\",\"Y tế\":\"Medical\",\"Công trình\":\"Construction\",\"Khiêu vũ\":\"Dancing\"}\n",
    "df[\"Specialized Function\"] = df[\"Specialized Function\"].replace(map_Specialized_Function)\n",
    "\n",
    "# Dedicated functions\n",
    "df[\"Dedicated functions\"].str.strip()\n",
    "map_Dedicated_Function = {\"Không có\":\"None\",\"Sân đất nện\":\"Clay court\",\"Sân cỏ nhân tạo\":\"Artificial turf\",\"Giày đi bộ\":\"Walking shoes\",\"20km\":\"20km\",\"Sân futsal\":\"futsal court\",\"40km\":\"40km\",\"Sân Futsal\":\"futsal court\",\"Giày bảo hộ\":\"Safety shoes\",\"10km\":\"10km\"}\n",
    "df[\"Dedicated functions\"] = df[\"Dedicated functions\"].replace(map_Dedicated_Function)\n",
    "\n",
    "# Size Group\n",
    "df[\"Size Group\"].str.strip()\n",
    "map_Size_Group = {\"Ngoại lệ\":\"Exception\",\"Khung size chính\":\"Main size frame\", \"Khác\":\"Other\",\"Đặc biệt\":\"Special\"}\n",
    "df[\"Size Group\"] = df[\"Size Group\"].replace(map_Size_Group)\n",
    "\n",
    "# Age Group\n",
    "replacements = {\n",
    "    \"đến\": \"To\",\n",
    "    \"tuổi\": \"yrs old\",\n",
    "    \"Trên\": \"Above\",\n",
    "    \"Khác\": \"Other\"\n",
    "}\n",
    "df[\"Age Group\"] = df[\"Age Group\"].astype(str)\n",
    "df[\"Age Group\"] = df[\"Age Group\"].replace(replacements, regex=True)\n",
    "df[\"Age Group\"]\n",
    "\n",
    "# Activity Group\n",
    "df[\"Activity Group\"].str.strip()\n",
    "map_Activity_Group = {\"Thường nhật/Trường học\":\"Daily/School\",\"Văn phòng\":\"Office\",\"Khác\":\"Other\",\"Thể thao\":\"Sport\",\"Chuyên biệt\":\"Specialized\"}\n",
    "df[\"Activity Group\"] = df[\"Activity Group\"].replace(map_Activity_Group)\n",
    "\n",
    "# Copyright group\n",
    "df[\"Copyright group\"].str.strip()\n",
    "map_Copyright_group = {\"CƠ BẢN\":\"BASIC\"}\n",
    "df[\"Copyright group\"] = df[\"Copyright group\"].replace(map_Copyright_group)\n",
    "\n",
    "# Image copyright\n",
    "df[\"Image copyright\"].str.strip()\n",
    "map_Image_copyright = {\"CƠ BẢN\":\"BASIC\",\"KHÁC\":\"OTHER\",\"KHÔNG\":\"NONE\",\"KHÔNG CÓ\":\"NONE\",\"VƯỜN RAU CỦA MẸ\":\"MOTHER'S VEGETABLE GARDEN\",\"GẤU CHÚ TÂM\":\"Bear Mind\",\"Gấu Chú Tâm\":\"Bear Mind\"}\n",
    "df[\"Image copyright\"] = df[\"Image copyright\"].replace(map_Image_copyright)\n",
    "\n",
    "# Product Line\n",
    "df[\"Product Line\"].str.strip()\n",
    "map_Product_Line = {\"KHÁC\":\"OTHER\",\"ÊMBRACE\":\"EMBRACE\"}\n",
    "df[\"Product Line\"] = df[\"Product Line\"].replace(map_Product_Line)"
   ]
  }
 ],
 "metadata": {
  "kernelspec": {
   "display_name": "Python 3 (ipykernel)",
   "language": "python",
   "name": "python3"
  },
  "language_info": {
   "codemirror_mode": {
    "name": "ipython",
    "version": 3
   },
   "file_extension": ".py",
   "mimetype": "text/x-python",
   "name": "python",
   "nbconvert_exporter": "python",
   "pygments_lexer": "ipython3",
   "version": "3.11.7"
  }
 },
 "nbformat": 4,
 "nbformat_minor": 5
}
